{
 "cells": [
  {
   "cell_type": "markdown",
   "metadata": {},
   "source": [
    "#L1 Regularized SVM and Logistic Regression using Stochastic Gradient Descent algorithm\n",
    "###Author: Pablo Campos V."
   ]
  },
  {
   "cell_type": "markdown",
   "metadata": {},
   "source": [
    "##Necessary libraries"
   ]
  },
  {
   "cell_type": "code",
   "execution_count": 1,
   "metadata": {
    "collapsed": false,
    "scrolled": true
   },
   "outputs": [
    {
     "name": "stderr",
     "output_type": "stream",
     "text": [
      "Vendor:  Continuum Analytics, Inc.\n",
      "Package: mkl\n",
      "Message: trial mode expires in 30 days\n",
      "Vendor:  Continuum Analytics, Inc.\n",
      "Package: mkl\n",
      "Message: trial mode expires in 30 days\n"
     ]
    }
   ],
   "source": [
    "import pandas as pd\n",
    "import numpy as np\n",
    "import scipy as sp\n",
    "import matplotlib.pyplot as plt\n",
    "import seaborn as sns\n",
    "from sklearn import linear_model\n",
    "from sklearn.svm import l1_min_c\n",
    "from sklearn import preprocessing\n",
    "from sklearn.preprocessing import StandardScaler\n",
    "from sklearn.metrics import roc_auc_score\n",
    "from datetime import datetime\n",
    "from sklearn.linear_model import SGDClassifier"
   ]
  },
  {
   "cell_type": "markdown",
   "metadata": {},
   "source": [
    "##Let's create some fake data and scale the feature matrix"
   ]
  },
  {
   "cell_type": "code",
   "execution_count": 11,
   "metadata": {
    "collapsed": false
   },
   "outputs": [],
   "source": [
    "np.random.seed(123)\n",
    "X = np.random.rand(1000,500)\n",
    "y = np.random.randint(2, size=1000)\n",
    "X_scaled = preprocessing.scale(X)"
   ]
  },
  {
   "cell_type": "markdown",
   "metadata": {},
   "source": [
    "##Let's make a grid for the regularization parameter"
   ]
  },
  {
   "cell_type": "code",
   "execution_count": 4,
   "metadata": {
    "collapsed": true
   },
   "outputs": [],
   "source": [
    "cs = np.linspace(0.0001, 1, num=100)"
   ]
  },
  {
   "cell_type": "markdown",
   "metadata": {},
   "source": [
    "##L1 Regularized Linear SVM: Compute the trajectory of variables using SGDClassifier"
   ]
  },
  {
   "cell_type": "code",
   "execution_count": 16,
   "metadata": {
    "collapsed": false
   },
   "outputs": [
    {
     "name": "stdout",
     "output_type": "stream",
     "text": [
      "('Time ', datetime.timedelta(0, 94, 618283))\n"
     ]
    }
   ],
   "source": [
    "start = datetime.now()\n",
    "clf = SGDClassifier(loss='hinge', penalty='l1',alpha=0.001, n_iter=200, fit_intercept=True, l1_ratio=1)\n",
    "coefs_ = []\n",
    "for c in cs:\n",
    "    clf.set_params(alpha=c)\n",
    "    clf.fit(X_scaled, y)\n",
    "    coefs_.append(clf.coef_.ravel().copy())\n",
    "print(\"Time \", datetime.now() - start)"
   ]
  },
  {
   "cell_type": "markdown",
   "metadata": {},
   "source": [
    "##Visualizing the trajectory"
   ]
  },
  {
   "cell_type": "code",
   "execution_count": 18,
   "metadata": {
    "collapsed": false
   },
   "outputs": [],
   "source": [
    "coefs_ = np.array(coefs_)\n",
    "plt.plot(np.log10(cs), coefs_)\n",
    "ymin, ymax = plt.ylim()\n",
    "plt.xlabel('log(C)')\n",
    "plt.ylabel('Coefficients')\n",
    "plt.title('L1 Regularized SVM Trajectory')\n",
    "plt.axis('tight')\n",
    "plt.show()"
   ]
  },
  {
   "cell_type": "markdown",
   "metadata": {},
   "source": [
    "##L1 Regularized Logistic Regression: Compute the trajectory of variables using SGDClassifier"
   ]
  },
  {
   "cell_type": "code",
   "execution_count": 10,
   "metadata": {
    "collapsed": false
   },
   "outputs": [
    {
     "name": "stdout",
     "output_type": "stream",
     "text": [
      "('Time ', datetime.timedelta(0, 98, 72530))\n"
     ]
    }
   ],
   "source": [
    "start = datetime.now()\n",
    "clf = SGDClassifier(loss='log', penalty='l1',alpha=0.01, n_iter=200, fit_intercept=True, l1_ratio=1,\n",
    "                    random_state=123)\n",
    "aucs = np.zeros(len(cs))\n",
    "coefs_ = []\n",
    "i=0\n",
    "for c in cs:\n",
    "    clf.set_params(alpha=c)\n",
    "    clf.fit(X_scaled, y)\n",
    "    coefs_.append(clf.coef_.ravel().copy())\n",
    "    prob = clf.predict_proba(X_scaled)\n",
    "    prob = prob[:,1]\n",
    "    aucs[i]=roc_auc_score(y, prob)\n",
    "    i = i+1\n",
    "print(\"Time \", datetime.now() - start)\n"
   ]
  },
  {
   "cell_type": "markdown",
   "metadata": {},
   "source": [
    "##Visualizing the trajectory"
   ]
  },
  {
   "cell_type": "code",
   "execution_count": 17,
   "metadata": {
    "collapsed": true
   },
   "outputs": [],
   "source": [
    "coefs_ = np.array(coefs_)\n",
    "plt.plot(np.log10(cs), coefs_)\n",
    "ymin, ymax = plt.ylim()\n",
    "plt.xlabel('log(C)')\n",
    "plt.ylabel('Coefficients')\n",
    "plt.title('L1 Regularized Logistic Regression Trajectory')\n",
    "plt.axis('tight')\n",
    "plt.show()"
   ]
  },
  {
   "cell_type": "markdown",
   "metadata": {},
   "source": [
    "##We can store the coefficients matrix in SciPy sparse format (memory efficient)"
   ]
  },
  {
   "cell_type": "code",
   "execution_count": 66,
   "metadata": {
    "collapsed": true
   },
   "outputs": [],
   "source": [
    "sp_coefs_ = sp.sparse.csr_matrix(coefs_)"
   ]
  },
  {
   "cell_type": "markdown",
   "metadata": {},
   "source": [
    "##Computing area under ROC curve on train data as function of regularization parameter"
   ]
  },
  {
   "cell_type": "code",
   "execution_count": 37,
   "metadata": {
    "collapsed": false
   },
   "outputs": [],
   "source": [
    "plt.plot(np.log10(cs), aucs)\n",
    "ymin, ymax = plt.ylim()\n",
    "plt.xlabel('log(C)')\n",
    "plt.ylabel('AUC')\n",
    "plt.title('Regularization parameter vs AUC')\n",
    "plt.axis('tight')\n",
    "plt.show()"
   ]
  },
  {
   "cell_type": "markdown",
   "metadata": {},
   "source": [
    "##Let's create some test data"
   ]
  },
  {
   "cell_type": "code",
   "execution_count": 12,
   "metadata": {
    "collapsed": true
   },
   "outputs": [],
   "source": [
    "np.random.seed(456)\n",
    "X_test = np.random.rand(1000,500)\n",
    "y_test = np.random.randint(2, size=1000)"
   ]
  },
  {
   "cell_type": "markdown",
   "metadata": {},
   "source": [
    "##Scale the test data according to train data statistics"
   ]
  },
  {
   "cell_type": "code",
   "execution_count": 13,
   "metadata": {
    "collapsed": false
   },
   "outputs": [],
   "source": [
    "scaler = preprocessing.StandardScaler().fit(X)\n",
    "X_test_scaled = scaler.transform(X_test) "
   ]
  },
  {
   "cell_type": "markdown",
   "metadata": {},
   "source": [
    "##L1 Regularized Logistic Regression: Compute the trajectory of variables using SGDClassifier\n",
    "###Predictions on test data"
   ]
  },
  {
   "cell_type": "code",
   "execution_count": 14,
   "metadata": {
    "collapsed": false
   },
   "outputs": [
    {
     "name": "stdout",
     "output_type": "stream",
     "text": [
      "('Time ', datetime.timedelta(0, 98, 506011))\n"
     ]
    }
   ],
   "source": [
    "start = datetime.now()\n",
    "clf = SGDClassifier(loss='log', penalty='l1',alpha=0.01, n_iter=200, fit_intercept=True, l1_ratio=1,\n",
    "                    random_state=123)\n",
    "aucs = np.zeros(len(cs))\n",
    "coefs_ = []\n",
    "i=0\n",
    "for c in cs:\n",
    "    clf.set_params(alpha=c)\n",
    "    clf.fit(X_scaled, y)\n",
    "    coefs_.append(clf.coef_.ravel().copy())\n",
    "    prob = clf.predict_proba(X_test_scaled)\n",
    "    prob = prob[:,1]\n",
    "    aucs[i]=roc_auc_score(y_test, prob)\n",
    "    i = i+1\n",
    "print(\"Time \", datetime.now() - start)"
   ]
  },
  {
   "cell_type": "markdown",
   "metadata": {},
   "source": [
    "##Computing area under ROC curve on test data as function of regularization parameter"
   ]
  },
  {
   "cell_type": "code",
   "execution_count": 15,
   "metadata": {
    "collapsed": true
   },
   "outputs": [],
   "source": [
    "plt.plot(np.log10(cs), aucs)\n",
    "ymin, ymax = plt.ylim()\n",
    "plt.xlabel('log(C)')\n",
    "plt.ylabel('AUC')\n",
    "plt.title('Regularization parameter vs AUC')\n",
    "plt.axis('tight')\n",
    "plt.show()"
   ]
  },
  {
   "cell_type": "code",
   "execution_count": null,
   "metadata": {
    "collapsed": true
   },
   "outputs": [],
   "source": []
  }
 ],
 "metadata": {
  "kernelspec": {
   "display_name": "Python 2",
   "language": "python",
   "name": "python2"
  },
  "language_info": {
   "codemirror_mode": {
    "name": "ipython",
    "version": 2
   },
   "file_extension": ".py",
   "mimetype": "text/x-python",
   "name": "python",
   "nbconvert_exporter": "python",
   "pygments_lexer": "ipython2",
   "version": "2.7.10"
  }
 },
 "nbformat": 4,
 "nbformat_minor": 0
}
